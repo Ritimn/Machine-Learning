{
 "cells": [
  {
   "cell_type": "code",
   "execution_count": 1,
   "metadata": {},
   "outputs": [],
   "source": [
    "import numpy as np\n",
    "import pandas as pd\n",
    "import sklearn\n",
    "from sklearn.neighbors import KNeighborsClassifier\n",
    "from sklearn.preprocessing import LabelEncoder\n",
    "from sklearn.decomposition import PCA\n",
    "from sklearn.model_selection import train_test_split\n",
    "from sklearn.metrics import accuracy_score\n",
    "from sklearn.tree import DecisionTreeClassifier\n",
    "import matplotlib as mpl\n",
    "import matplotlib.pyplot as plt\n",
    "from datetime import datetime, timezone\n",
    "import warnings\n",
    "warnings.filterwarnings('ignore')\n",
    "from data_collection.parse_pcap import pcap_to_pandas, send_rates"
   ]
  },
  {
   "cell_type": "markdown",
   "metadata": {},
   "source": [
    "# Nearest Neighbors"
   ]
  },
  {
   "cell_type": "markdown",
   "metadata": {},
   "source": [
    "Today we'll investigate whether a network eavesdropper can use device traffic to infer what people are doing inside their homes. We will pretend to be the eavesdropper and use a nearest neighbors classifier to perform this attack. We'll discuss what makes this algorithm effective, why this constitutes a privacy risk, and how we can protect device owners."
   ]
  },
  {
   "cell_type": "markdown",
   "metadata": {},
   "source": [
    "## Overview\n",
    "\n",
    "Nearest neighbors is a machine learning algorithm that operates on a very simple premise: Objects of one type are more likely to be similar to other objects of the same type than to objects of any different type. Stated with a concrete example: \"Dogs are generally more similar to other dogs than they are to cats.\" \n",
    "\n",
    "This intuition translates naturally into a classification algorithm. If you have a labeled training set (objects with associated types) and you want to predict the label for a new object, find the $k$ objects in the training set that are most similar to the new object and predict the label of the majority of these $k$ closest objects. \n",
    "\n",
    "Consider the following graphical example with three classes of objects represented as 2D points colored by class. In this case, and for nearest neighbors in general, we consider \"most similar\" to mean \"closest,\" typically computed as the Euclidean distance between points. If you wanted to predict the class of the black stars using the closest point (1-nearest neighbor), what would be the predictions? How about if you used the 5 closest points (5-nearest neighbors)?"
   ]
  },
  {
   "cell_type": "code",
   "execution_count": 2,
   "metadata": {},
   "outputs": [
    {
     "data": {
      "image/png": "[encoded data removed]",
      "text/plain": [
       "<Figure size 640x480 with 1 Axes>"
      ]
     },
     "metadata": {},
     "output_type": "display_data"
    }
   ],
   "source": [
    "# lists of points\n",
    "points = np.array([(1, 8), (2.4, 5), (3,6), (2,4), (1.8, 7), (3, 3.7), (1, 5.5),\n",
    "                   (7,8), (9, 6), (10, 9), (6,10), (8,11), (8.2,9.5),\n",
    "                   (5,1), (6, 3), (6, 5.7), (4.5,5), (5.5,3.5), (6.7, 2), (3,4.2)])\n",
    "\n",
    "# each point above has a label\n",
    "classes = np.array([0, 0, 0, 0, 0, 0, 0, \n",
    "                    1, 1, 1, 1, 1, 1, \n",
    "                    2, 2, 2, 2, 2, 2, 2])\n",
    "\n",
    "# These new points are unlabeled. Goal is to find labels for these points.\n",
    "unknown = np.array([(3, 4.7), (8,8), (4.25,6.5)])\n",
    "\n",
    "# Plotting Support\n",
    "colors = ['red','green','blue']\n",
    "plt.scatter(*zip(*points), c=classes, cmap=mpl.colors.ListedColormap(colors))\n",
    "plt.plot(*zip(*unknown), '*', color='black', markersize=10)\n",
    "plt.xlim((-1,11))\n",
    "plt.ylim((-1,12))\n",
    "plt.grid(linestyle='--', alpha=0.6)"
   ]
  },
  {
   "cell_type": "markdown",
   "metadata": {},
   "source": [
    "This same technique generalizes to objects that have more features (higher dimensionality). It's hard to plot a 10 dimensional point, but the distance function works in arbitrarily high dimensions, so you can still find nearest neighbors. \n",
    "\n",
    "Let's try using the python Nearest Neighbors function with the above example points."
   ]
  },
  {
   "cell_type": "code",
   "execution_count": 3,
   "metadata": {},
   "outputs": [
    {
     "name": "stdout",
     "output_type": "stream",
     "text": [
      "['red', 'green', 'blue']\n"
     ]
    }
   ],
   "source": [
    "# get the training data in the right format\n",
    "\n",
    "# Create a nearest neighbors object\n",
    "k = 3\n",
    "nn = KNeighborsClassifier(n_neighbors=k)\n",
    "\n",
    "# train the classifier using the labeled points\n",
    "nn.fit(points, classes)\n",
    "\n",
    "# predict the value of the unknown points. \n",
    "predictions = nn.predict(unknown)\n",
    "\n",
    "# print the predictions\n",
    "print([colors[i] for i in predictions])"
   ]
  },
  {
   "cell_type": "markdown",
   "metadata": {},
   "source": [
    "Run the cell above with different values of $k$ to check your answers from above"
   ]
  },
  {
   "cell_type": "markdown",
   "metadata": {},
   "source": [
    "## Application to IoT Privacy\n",
    "\n",
    "In order to apply nearest neighbors to our IoT device network data we need to take the following steps:\n",
    "1. Convert the lists of packets into points, with each point encapsulating the device's network activity at a particular time \n",
    "2. Associate each point with a label (the activity you were doing with the device at the time of the point). \n",
    "3. Divide the points into a training set and a test set and train a K-Nearest Neighbors classifier. In reality, \"train\" is a bit of a misnomer for nearest neighbors classifiers, because all that happens is that the points get stored for comparision. No math actually takes place.\n",
    "4. Predict the labels of the test set using the classifier and calculate the accuracy of the predictions against the real labels."
   ]
  },
  {
   "cell_type": "markdown",
   "metadata": {},
   "source": [
    "#### 1. Import data and convert to points"
   ]
  },
  {
   "cell_type": "code",
   "execution_count": 4,
   "metadata": {},
   "outputs": [
    {
     "data": {
      "text/html": [
       "<div>\n",
       "<style scoped>\n",
       "    .dataframe tbody tr th:only-of-type {\n",
       "        vertical-align: middle;\n",
       "    }\n",
       "\n",
       "    .dataframe tbody tr th {\n",
       "        vertical-align: top;\n",
       "    }\n",
       "\n",
       "    .dataframe thead th {\n",
       "        text-align: right;\n",
       "    }\n",
       "</style>\n",
       "<table border=\"1\" class=\"dataframe\">\n",
       "  <thead>\n",
       "    <tr style=\"text-align: right;\">\n",
       "      <th></th>\n",
       "      <th>datetime</th>\n",
       "      <th>dns_query</th>\n",
       "      <th>dns_resp</th>\n",
       "      <th>ip_dst</th>\n",
       "      <th>ip_dst_int</th>\n",
       "      <th>ip_src</th>\n",
       "      <th>ip_src_int</th>\n",
       "      <th>is_dns</th>\n",
       "      <th>length</th>\n",
       "      <th>mac_dst</th>\n",
       "      <th>mac_dst_int</th>\n",
       "      <th>mac_src</th>\n",
       "      <th>mac_src_int</th>\n",
       "      <th>port_dst</th>\n",
       "      <th>port_src</th>\n",
       "      <th>protocol</th>\n",
       "      <th>time</th>\n",
       "      <th>time_normed</th>\n",
       "    </tr>\n",
       "  </thead>\n",
       "  <tbody>\n",
       "    <tr>\n",
       "      <th>0</th>\n",
       "      <td>2016-07-29 15:10:03.220967</td>\n",
       "      <td>None</td>\n",
       "      <td>None</td>\n",
       "      <td>172.24.1.84</td>\n",
       "      <td>2.887254e+09</td>\n",
       "      <td>52.87.161.133</td>\n",
       "      <td>8.781582e+08</td>\n",
       "      <td>False</td>\n",
       "      <td>66</td>\n",
       "      <td>18:b4:30:54:a5:db</td>\n",
       "      <td>27162184033755</td>\n",
       "      <td>b8:27:eb:ed:34:f0</td>\n",
       "      <td>202481601426672</td>\n",
       "      <td>46110.0</td>\n",
       "      <td>443.0</td>\n",
       "      <td>TCP</td>\n",
       "      <td>1.469823e+09</td>\n",
       "      <td>0.000000</td>\n",
       "    </tr>\n",
       "    <tr>\n",
       "      <th>1</th>\n",
       "      <td>2016-07-29 15:10:03.260909</td>\n",
       "      <td>None</td>\n",
       "      <td>None</td>\n",
       "      <td>172.24.1.84</td>\n",
       "      <td>2.887254e+09</td>\n",
       "      <td>52.87.161.133</td>\n",
       "      <td>8.781582e+08</td>\n",
       "      <td>False</td>\n",
       "      <td>66</td>\n",
       "      <td>18:b4:30:54:a5:db</td>\n",
       "      <td>27162184033755</td>\n",
       "      <td>b8:27:eb:ed:34:f0</td>\n",
       "      <td>202481601426672</td>\n",
       "      <td>46110.0</td>\n",
       "      <td>443.0</td>\n",
       "      <td>TCP</td>\n",
       "      <td>1.469823e+09</td>\n",
       "      <td>0.039942</td>\n",
       "    </tr>\n",
       "    <tr>\n",
       "      <th>2</th>\n",
       "      <td>2016-07-29 15:10:03.271401</td>\n",
       "      <td>None</td>\n",
       "      <td>None</td>\n",
       "      <td>52.87.161.133</td>\n",
       "      <td>8.781582e+08</td>\n",
       "      <td>172.24.1.84</td>\n",
       "      <td>2.887254e+09</td>\n",
       "      <td>False</td>\n",
       "      <td>1506</td>\n",
       "      <td>b8:27:eb:ed:34:f0</td>\n",
       "      <td>202481601426672</td>\n",
       "      <td>18:b4:30:54:a5:db</td>\n",
       "      <td>27162184033755</td>\n",
       "      <td>443.0</td>\n",
       "      <td>46110.0</td>\n",
       "      <td>TCP</td>\n",
       "      <td>1.469823e+09</td>\n",
       "      <td>0.050434</td>\n",
       "    </tr>\n",
       "    <tr>\n",
       "      <th>3</th>\n",
       "      <td>2016-07-29 15:10:03.272394</td>\n",
       "      <td>None</td>\n",
       "      <td>None</td>\n",
       "      <td>52.87.161.133</td>\n",
       "      <td>8.781582e+08</td>\n",
       "      <td>172.24.1.84</td>\n",
       "      <td>2.887254e+09</td>\n",
       "      <td>False</td>\n",
       "      <td>1506</td>\n",
       "      <td>b8:27:eb:ed:34:f0</td>\n",
       "      <td>202481601426672</td>\n",
       "      <td>18:b4:30:54:a5:db</td>\n",
       "      <td>27162184033755</td>\n",
       "      <td>443.0</td>\n",
       "      <td>46110.0</td>\n",
       "      <td>TCP</td>\n",
       "      <td>1.469823e+09</td>\n",
       "      <td>0.051427</td>\n",
       "    </tr>\n",
       "  </tbody>\n",
       "</table>\n",
       "</div>"
      ],
      "text/plain": [
       "                    datetime dns_query dns_resp         ip_dst    ip_dst_int  \\\n",
       "0 2016-07-29 15:10:03.220967      None     None    172.24.1.84  2.887254e+09   \n",
       "1 2016-07-29 15:10:03.260909      None     None    172.24.1.84  2.887254e+09   \n",
       "2 2016-07-29 15:10:03.271401      None     None  52.87.161.133  8.781582e+08   \n",
       "3 2016-07-29 15:10:03.272394      None     None  52.87.161.133  8.781582e+08   \n",
       "\n",
       "          ip_src    ip_src_int  is_dns  length            mac_dst  \\\n",
       "0  52.87.161.133  8.781582e+08   False      66  18:b4:30:54:a5:db   \n",
       "1  52.87.161.133  8.781582e+08   False      66  18:b4:30:54:a5:db   \n",
       "2    172.24.1.84  2.887254e+09   False    1506  b8:27:eb:ed:34:f0   \n",
       "3    172.24.1.84  2.887254e+09   False    1506  b8:27:eb:ed:34:f0   \n",
       "\n",
       "       mac_dst_int            mac_src      mac_src_int  port_dst  port_src  \\\n",
       "0   27162184033755  b8:27:eb:ed:34:f0  202481601426672   46110.0     443.0   \n",
       "1   27162184033755  b8:27:eb:ed:34:f0  202481601426672   46110.0     443.0   \n",
       "2  202481601426672  18:b4:30:54:a5:db   27162184033755     443.0   46110.0   \n",
       "3  202481601426672  18:b4:30:54:a5:db   27162184033755     443.0   46110.0   \n",
       "\n",
       "  protocol          time  time_normed  \n",
       "0      TCP  1.469823e+09     0.000000  \n",
       "1      TCP  1.469823e+09     0.039942  \n",
       "2      TCP  1.469823e+09     0.050434  \n",
       "3      TCP  1.469823e+09     0.051427  "
      ]
     },
     "execution_count": 4,
     "metadata": {},
     "output_type": "execute_result"
    }
   ],
   "source": [
    "pcap = pcap_to_pandas('example_pcaps/nestcam_live.pcap') # this can take a few minutes\n",
    "pcap.head(n=4)"
   ]
  },
  {
   "cell_type": "markdown",
   "metadata": {},
   "source": [
    "The data is currently stored as a list of packets, but we want it as points corresponding to time periods. \n",
    "\n",
    "Let's clean up the data a bit first. First, let's filter out all packets not sent by the device. Second, let's assume that the attacker is outside the home and only has access to IP traffic. Third, let's assume that the attacker only has access to the time each packet was sent and its length (this is a reasonable assumption for encrypted traffic, as we will discuss). "
   ]
  },
  {
   "cell_type": "code",
   "execution_count": 16,
   "metadata": {},
   "outputs": [
    {
     "data": {
      "text/html": [
       "<div>\n",
       "<style scoped>\n",
       "    .dataframe tbody tr th:only-of-type {\n",
       "        vertical-align: middle;\n",
       "    }\n",
       "\n",
       "    .dataframe tbody tr th {\n",
       "        vertical-align: top;\n",
       "    }\n",
       "\n",
       "    .dataframe thead th {\n",
       "        text-align: right;\n",
       "    }\n",
       "</style>\n",
       "<table border=\"1\" class=\"dataframe\">\n",
       "  <thead>\n",
       "    <tr style=\"text-align: right;\">\n",
       "      <th></th>\n",
       "      <th>time</th>\n",
       "      <th>length</th>\n",
       "    </tr>\n",
       "  </thead>\n",
       "  <tbody>\n",
       "    <tr>\n",
       "      <th>2</th>\n",
       "      <td>1.469823e+09</td>\n",
       "      <td>1506</td>\n",
       "    </tr>\n",
       "    <tr>\n",
       "      <th>3</th>\n",
       "      <td>1.469823e+09</td>\n",
       "      <td>1506</td>\n",
       "    </tr>\n",
       "    <tr>\n",
       "      <th>4</th>\n",
       "      <td>1.469823e+09</td>\n",
       "      <td>1506</td>\n",
       "    </tr>\n",
       "    <tr>\n",
       "      <th>5</th>\n",
       "      <td>1.469823e+09</td>\n",
       "      <td>1506</td>\n",
       "    </tr>\n",
       "    <tr>\n",
       "      <th>6</th>\n",
       "      <td>1.469823e+09</td>\n",
       "      <td>1506</td>\n",
       "    </tr>\n",
       "  </tbody>\n",
       "</table>\n",
       "</div>"
      ],
      "text/plain": [
       "           time  length\n",
       "2  1.469823e+09    1506\n",
       "3  1.469823e+09    1506\n",
       "4  1.469823e+09    1506\n",
       "5  1.469823e+09    1506\n",
       "6  1.469823e+09    1506"
      ]
     },
     "execution_count": 16,
     "metadata": {},
     "output_type": "execute_result"
    }
   ],
   "source": [
    "# filter only packets sent by device\n",
    "\n",
    "# device mac address as a string\n",
    "device_mac_address = '18:b4:30:54:a5:db' \n",
    "\n",
    "# column name (as string) to compare to device_mac_addresses\n",
    "device_packets = pcap[pcap['mac_src'] == device_mac_address] \n",
    "\n",
    "# Remove all non-IP packets\n",
    "ip_packets = device_packets.loc[device_packets['ip_src'].notnull()]\n",
    "ip_packets = ip_packets[ip_packets['ip_src'] != '0.0.0.0']\n",
    "ip_packets = ip_packets[ip_packets['ip_dst'] != '0.0.0.0']\n",
    "\n",
    "# select only the 'time' and 'length' columns\n",
    "time_packets = ip_packets[['time', 'length']]\n",
    "time_packets.head(n=5)"
   ]
  },
  {
   "cell_type": "markdown",
   "metadata": {},
   "source": [
    "Looks good, but why are the packet times just large numbers? These numbers are times in units of seconds since the \"epoch\" (January 1, 1970 at 00:00:00 GMT), a common format for computer timestamps. Let's convert them to normal-looking times."
   ]
  },
  {
   "cell_type": "code",
   "execution_count": 18,
   "metadata": {
    "scrolled": true
   },
   "outputs": [
    {
     "data": {
      "text/html": [
       "<div>\n",
       "<style scoped>\n",
       "    .dataframe tbody tr th:only-of-type {\n",
       "        vertical-align: middle;\n",
       "    }\n",
       "\n",
       "    .dataframe tbody tr th {\n",
       "        vertical-align: top;\n",
       "    }\n",
       "\n",
       "    .dataframe thead th {\n",
       "        text-align: right;\n",
       "    }\n",
       "</style>\n",
       "<table border=\"1\" class=\"dataframe\">\n",
       "  <thead>\n",
       "    <tr style=\"text-align: right;\">\n",
       "      <th></th>\n",
       "      <th>time</th>\n",
       "      <th>length</th>\n",
       "      <th>datetime</th>\n",
       "    </tr>\n",
       "  </thead>\n",
       "  <tbody>\n",
       "    <tr>\n",
       "      <th>2</th>\n",
       "      <td>1.469823e+09</td>\n",
       "      <td>1506</td>\n",
       "      <td>2016-07-29 15:10:03.271401</td>\n",
       "    </tr>\n",
       "    <tr>\n",
       "      <th>3</th>\n",
       "      <td>1.469823e+09</td>\n",
       "      <td>1506</td>\n",
       "      <td>2016-07-29 15:10:03.272394</td>\n",
       "    </tr>\n",
       "    <tr>\n",
       "      <th>4</th>\n",
       "      <td>1.469823e+09</td>\n",
       "      <td>1506</td>\n",
       "      <td>2016-07-29 15:10:03.273265</td>\n",
       "    </tr>\n",
       "  </tbody>\n",
       "</table>\n",
       "</div>"
      ],
      "text/plain": [
       "           time  length                   datetime\n",
       "2  1.469823e+09    1506 2016-07-29 15:10:03.271401\n",
       "3  1.469823e+09    1506 2016-07-29 15:10:03.272394\n",
       "4  1.469823e+09    1506 2016-07-29 15:10:03.273265"
      ]
     },
     "execution_count": 18,
     "metadata": {},
     "output_type": "execute_result"
    }
   ],
   "source": [
    "time_packets[\"datetime\"] = [datetime.fromtimestamp(t) for t in time_packets['time']]\n",
    "time_packets.head(n=3)"
   ]
  },
  {
   "cell_type": "markdown",
   "metadata": {},
   "source": [
    "Now let's convert the list of packets into send rates by calculating the total amount of data sent (sum of packet lengths) during equal length time windows. The 'send_rates()' function is defined in parse_pcap.py which we imported at the beginning of the notebook."
   ]
  },
  {
   "cell_type": "code",
   "execution_count": 21,
   "metadata": {},
   "outputs": [
    {
     "data": {
      "image/png": "[encoded data removed]",
      "text/plain": [
       "<Figure size 640x480 with 1 Axes>"
      ]
     },
     "metadata": {},
     "output_type": "display_data"
    }
   ],
   "source": [
    "sampling_interval_sec = 1\n",
    "rates, rate_times = send_rates(time_packets, sampling_interval_sec)\n",
    "\n",
    "plt.plot(rate_times, rates)\n",
    "plt.ylabel(\"Send Rate (bytes/sec)\")\n",
    "plt.xlabel(\"Time (sec)\")\n",
    "plt.show()"
   ]
  },
  {
   "cell_type": "markdown",
   "metadata": {},
   "source": [
    "Try choosing different values for sampling_interval_sec and see how it affects the plots. What may be some benefits/drawbacks of having a small sampling interval? What may be benefits/drawbacks of having a large sampling interval? \n",
    "\n",
    "Next let's divide these rates into individual points we can associate with a specific activity by dividing the list of rates into longer time periods."
   ]
  },
  {
   "cell_type": "code",
   "execution_count": 22,
   "metadata": {
    "scrolled": false
   },
   "outputs": [
    {
     "name": "stdout",
     "output_type": "stream",
     "text": [
      "120\n",
      "[29580. 24304. 16184. 27624. 21458. 12022.  9972.  9498. 10498. 13220.]\n",
      "120\n",
      "1469823003.271401\n"
     ]
    }
   ],
   "source": [
    "# Sample\n",
    "# function to sample send rates to act as points for kNN training\n",
    "def rates_to_points(rates, times, samples_per_point):\n",
    "    points = [rates[i:min(i+samples_per_point, rates.size-1)] for i in range(0, rates.size, samples_per_point)]\n",
    "    times = [times[i] for i in range(0, times.size, samples_per_point)]\n",
    "    return np.array(points[:-1]), np.array(times[:-1])\n",
    "    \n",
    "# number of send rate samples to include in each point. How many total seconds will each point represent? \n",
    "samples_per_point = 10\n",
    "\n",
    "# perform the operation\n",
    "points, point_times = rates_to_points(rates, rate_times,samples_per_point) \n",
    "\n",
    "# print the total number of points and an example\n",
    "print(len(points))\n",
    "print(points[0])\n",
    "\n",
    "# print the total number of point_times and an example\n",
    "print(len(point_times))\n",
    "print(point_times[0])"
   ]
  },
  {
   "cell_type": "markdown",
   "metadata": {},
   "source": [
    "Whew, now we have points and associated times. \n",
    "\n",
    "#### 2. Associate points with activity labels. \n",
    "\n",
    "First, read the labels from the text file"
   ]
  },
  {
   "cell_type": "code",
   "execution_count": 23,
   "metadata": {},
   "outputs": [
    {
     "data": {
      "text/html": [
       "<div>\n",
       "<style scoped>\n",
       "    .dataframe tbody tr th:only-of-type {\n",
       "        vertical-align: middle;\n",
       "    }\n",
       "\n",
       "    .dataframe tbody tr th {\n",
       "        vertical-align: top;\n",
       "    }\n",
       "\n",
       "    .dataframe thead th {\n",
       "        text-align: right;\n",
       "    }\n",
       "</style>\n",
       "<table border=\"1\" class=\"dataframe\">\n",
       "  <thead>\n",
       "    <tr style=\"text-align: right;\">\n",
       "      <th></th>\n",
       "      <th>time</th>\n",
       "      <th>activity</th>\n",
       "    </tr>\n",
       "  </thead>\n",
       "  <tbody>\n",
       "    <tr>\n",
       "      <th>0</th>\n",
       "      <td>16:10:00</td>\n",
       "      <td>livestream</td>\n",
       "    </tr>\n",
       "    <tr>\n",
       "      <th>1</th>\n",
       "      <td>16:12:20</td>\n",
       "      <td>motion</td>\n",
       "    </tr>\n",
       "    <tr>\n",
       "      <th>2</th>\n",
       "      <td>16:14:00</td>\n",
       "      <td>livestream</td>\n",
       "    </tr>\n",
       "    <tr>\n",
       "      <th>3</th>\n",
       "      <td>16:16:20</td>\n",
       "      <td>motion</td>\n",
       "    </tr>\n",
       "    <tr>\n",
       "      <th>4</th>\n",
       "      <td>16:18:00</td>\n",
       "      <td>livestream</td>\n",
       "    </tr>\n",
       "    <tr>\n",
       "      <th>5</th>\n",
       "      <td>16:20:45</td>\n",
       "      <td>motion</td>\n",
       "    </tr>\n",
       "    <tr>\n",
       "      <th>6</th>\n",
       "      <td>16:22:00</td>\n",
       "      <td>livestream</td>\n",
       "    </tr>\n",
       "    <tr>\n",
       "      <th>7</th>\n",
       "      <td>16:24:15</td>\n",
       "      <td>motion</td>\n",
       "    </tr>\n",
       "    <tr>\n",
       "      <th>8</th>\n",
       "      <td>16:26:00</td>\n",
       "      <td>livestream</td>\n",
       "    </tr>\n",
       "    <tr>\n",
       "      <th>9</th>\n",
       "      <td>16:28:20</td>\n",
       "      <td>motion</td>\n",
       "    </tr>\n",
       "  </tbody>\n",
       "</table>\n",
       "</div>"
      ],
      "text/plain": [
       "       time     activity\n",
       "0  16:10:00   livestream\n",
       "1  16:12:20       motion\n",
       "2  16:14:00   livestream\n",
       "3  16:16:20       motion\n",
       "4  16:18:00   livestream\n",
       "5  16:20:45       motion\n",
       "6  16:22:00   livestream\n",
       "7  16:24:15       motion\n",
       "8  16:26:00   livestream\n",
       "9  16:28:20       motion"
      ]
     },
     "execution_count": 23,
     "metadata": {},
     "output_type": "execute_result"
    }
   ],
   "source": [
    "labels = pd.read_csv('example_pcaps/nestcam_live_labels.txt', header=None, names=[\"time\", \"activity\"])\n",
    "labels.head(n=10)"
   ]
  },
  {
   "cell_type": "markdown",
   "metadata": {},
   "source": [
    "We need to associate the labels with the points based on the timestamps"
   ]
  },
  {
   "cell_type": "code",
   "execution_count": 24,
   "metadata": {},
   "outputs": [
    {
     "data": {
      "text/html": [
       "<div>\n",
       "<style scoped>\n",
       "    .dataframe tbody tr th:only-of-type {\n",
       "        vertical-align: middle;\n",
       "    }\n",
       "\n",
       "    .dataframe tbody tr th {\n",
       "        vertical-align: top;\n",
       "    }\n",
       "\n",
       "    .dataframe thead th {\n",
       "        text-align: right;\n",
       "    }\n",
       "</style>\n",
       "<table border=\"1\" class=\"dataframe\">\n",
       "  <thead>\n",
       "    <tr style=\"text-align: right;\">\n",
       "      <th></th>\n",
       "      <th>time</th>\n",
       "      <th>activity</th>\n",
       "      <th>datetime</th>\n",
       "      <th>timestamp</th>\n",
       "      <th>class</th>\n",
       "    </tr>\n",
       "  </thead>\n",
       "  <tbody>\n",
       "    <tr>\n",
       "      <th>0</th>\n",
       "      <td>16:10:00</td>\n",
       "      <td>livestream</td>\n",
       "      <td>2016-07-29 16:10:00</td>\n",
       "      <td>1.469823e+09</td>\n",
       "      <td>0</td>\n",
       "    </tr>\n",
       "    <tr>\n",
       "      <th>1</th>\n",
       "      <td>16:12:20</td>\n",
       "      <td>motion</td>\n",
       "      <td>2016-07-29 16:12:20</td>\n",
       "      <td>1.469823e+09</td>\n",
       "      <td>1</td>\n",
       "    </tr>\n",
       "    <tr>\n",
       "      <th>2</th>\n",
       "      <td>16:14:00</td>\n",
       "      <td>livestream</td>\n",
       "      <td>2016-07-29 16:14:00</td>\n",
       "      <td>1.469823e+09</td>\n",
       "      <td>0</td>\n",
       "    </tr>\n",
       "    <tr>\n",
       "      <th>3</th>\n",
       "      <td>16:16:20</td>\n",
       "      <td>motion</td>\n",
       "      <td>2016-07-29 16:16:20</td>\n",
       "      <td>1.469823e+09</td>\n",
       "      <td>1</td>\n",
       "    </tr>\n",
       "    <tr>\n",
       "      <th>4</th>\n",
       "      <td>16:18:00</td>\n",
       "      <td>livestream</td>\n",
       "      <td>2016-07-29 16:18:00</td>\n",
       "      <td>1.469823e+09</td>\n",
       "      <td>0</td>\n",
       "    </tr>\n",
       "    <tr>\n",
       "      <th>5</th>\n",
       "      <td>16:20:45</td>\n",
       "      <td>motion</td>\n",
       "      <td>2016-07-29 16:20:45</td>\n",
       "      <td>1.469824e+09</td>\n",
       "      <td>1</td>\n",
       "    </tr>\n",
       "    <tr>\n",
       "      <th>6</th>\n",
       "      <td>16:22:00</td>\n",
       "      <td>livestream</td>\n",
       "      <td>2016-07-29 16:22:00</td>\n",
       "      <td>1.469824e+09</td>\n",
       "      <td>0</td>\n",
       "    </tr>\n",
       "    <tr>\n",
       "      <th>7</th>\n",
       "      <td>16:24:15</td>\n",
       "      <td>motion</td>\n",
       "      <td>2016-07-29 16:24:15</td>\n",
       "      <td>1.469824e+09</td>\n",
       "      <td>1</td>\n",
       "    </tr>\n",
       "    <tr>\n",
       "      <th>8</th>\n",
       "      <td>16:26:00</td>\n",
       "      <td>livestream</td>\n",
       "      <td>2016-07-29 16:26:00</td>\n",
       "      <td>1.469824e+09</td>\n",
       "      <td>0</td>\n",
       "    </tr>\n",
       "    <tr>\n",
       "      <th>9</th>\n",
       "      <td>16:28:20</td>\n",
       "      <td>motion</td>\n",
       "      <td>2016-07-29 16:28:20</td>\n",
       "      <td>1.469824e+09</td>\n",
       "      <td>1</td>\n",
       "    </tr>\n",
       "  </tbody>\n",
       "</table>\n",
       "</div>"
      ],
      "text/plain": [
       "       time     activity            datetime     timestamp  class\n",
       "0  16:10:00   livestream 2016-07-29 16:10:00  1.469823e+09      0\n",
       "1  16:12:20       motion 2016-07-29 16:12:20  1.469823e+09      1\n",
       "2  16:14:00   livestream 2016-07-29 16:14:00  1.469823e+09      0\n",
       "3  16:16:20       motion 2016-07-29 16:16:20  1.469823e+09      1\n",
       "4  16:18:00   livestream 2016-07-29 16:18:00  1.469823e+09      0\n",
       "5  16:20:45       motion 2016-07-29 16:20:45  1.469824e+09      1\n",
       "6  16:22:00   livestream 2016-07-29 16:22:00  1.469824e+09      0\n",
       "7  16:24:15       motion 2016-07-29 16:24:15  1.469824e+09      1\n",
       "8  16:26:00   livestream 2016-07-29 16:26:00  1.469824e+09      0\n",
       "9  16:28:20       motion 2016-07-29 16:28:20  1.469824e+09      1"
      ]
     },
     "execution_count": 24,
     "metadata": {},
     "output_type": "execute_result"
    }
   ],
   "source": [
    "# convert time column into a full date and time. Open pcap file in Wireshark to find the date it was recorded\n",
    "year = 2016\n",
    "month = 7\n",
    "day = 29\n",
    "\n",
    "def convert_to_datetime(time):\n",
    "    hour_min_sec = time.split(\":\")\n",
    "    return datetime(year=year, month=month, day=day, \n",
    "                    hour=int(hour_min_sec[0]), minute=int(hour_min_sec[1]), second=int(hour_min_sec[2]))\n",
    "                        \n",
    "labels['datetime'] = labels['time'].apply(convert_to_datetime)\n",
    "\n",
    "# convert datetime into a timestamp of seconds since epoch\n",
    "tzlocal = datetime.now().astimezone().tzinfo\n",
    "\n",
    "# BUG! Note Daylight Savings Time \n",
    "labels['timestamp'] = labels['datetime'].apply(lambda dt: dt.replace(tzinfo=tzlocal).timestamp()) - 3600\n",
    "\n",
    "# Convert the activity names into class number labels\n",
    "label_encoder = LabelEncoder()\n",
    "labels['class'] = label_encoder.fit_transform(labels['activity']) # column name (as string) to convet to class numbers\n",
    "\n",
    "# print the first few rows of the resulting labels \n",
    "labels.head(n=10)"
   ]
  },
  {
   "cell_type": "code",
   "execution_count": 25,
   "metadata": {
    "scrolled": false
   },
   "outputs": [
    {
     "name": "stdout",
     "output_type": "stream",
     "text": [
      "[0 0 0 0 0 0 0 0 0 0 0 0 0 0 1 1 1 1 1 1 1 1 1 1 0 0 0 0 0 0 0 0 0 0 0 0 0\n",
      " 0 1 1 1 1 1 1 1 1 1 1 0 0 0 0 0 0 0 0 0 0 0 0 0 0 0 0 0 1 1 1 1 1 1 1 0 0\n",
      " 0 0 0 0 0 0 0 0 0 0 0 0 1 1 1 1 1 1 1 1 1 1 0 0 0 0 0 0 0 0 0 0 0 0 0 0 1\n",
      " 1 1 1 1 1 1 1 1 1]\n"
     ]
    }
   ],
   "source": [
    "# finally, map the labels to the points \n",
    "point_labels = []\n",
    "label_row = 0\n",
    "\n",
    "for t in point_times:\n",
    "    # check if there are more activities\n",
    "    if label_row < labels.shape[0] - 1:\n",
    "        next_label_time = labels.iloc[label_row+1]['timestamp']\n",
    "        \n",
    "        # check if the next activity started before the current point\n",
    "        if t >= next_label_time:\n",
    "            label_row += 1\n",
    "            \n",
    "    # assign the current point to a class number\n",
    "    current_class = labels.iloc[label_row]['class']\n",
    "    point_labels.append(current_class)\n",
    "    \n",
    "# convert the result into a numpy array and print\n",
    "point_labels = np.array(point_labels)\n",
    "print(point_labels)"
   ]
  },
  {
   "cell_type": "markdown",
   "metadata": {},
   "source": [
    "Whew, now we have both labels and points. As is often the case with ML, data preprocessing turns out to be the hardest step in the process. Since our points have more than three dimensions, they are hard to visualize. Let's try to get a sense of them by plotting them in 2D using a transformation called \"Principle Component Analysis\" (which we will explain on the board). "
   ]
  },
  {
   "cell_type": "code",
   "execution_count": 26,
   "metadata": {},
   "outputs": [
    {
     "data": {
      "image/png": "[encoded data removed]",
      "text/plain": [
       "<Figure size 640x480 with 1 Axes>"
      ]
     },
     "metadata": {},
     "output_type": "display_data"
    }
   ],
   "source": [
    "# Use PCA to convert data to 2 dimensions\n",
    "\n",
    "pca = PCA(n_components=2) # n_components is number of dimensions of PCA result\n",
    "points_2d = pca.fit_transform(points)\n",
    "\n",
    "plt.scatter(*zip(*points_2d), c=point_labels, cmap=plt.get_cmap('Set1'), alpha=0.5)\n",
    "plt.show()"
   ]
  },
  {
   "cell_type": "markdown",
   "metadata": {},
   "source": [
    "This is a bit messy, but when you collapse high dimensional data into 2D, much of the structure of the data is lost. \n",
    "Nevertheless what is your impression of the data? Are points of the same class closer to each other than to points of other classes? How well do you think that the nearest neighbors classifier will work? "
   ]
  },
  {
   "cell_type": "markdown",
   "metadata": {},
   "source": [
    "#### 3. Train k-nearest-neighbors classifier"
   ]
  },
  {
   "cell_type": "markdown",
   "metadata": {},
   "source": [
    "Let's divide the points into a training set and a test set. "
   ]
  },
  {
   "cell_type": "code",
   "execution_count": 27,
   "metadata": {},
   "outputs": [],
   "source": [
    "# the 'test_size' parameter determines what fraction of the data is reserved for testing\n",
    "points_train, points_test, labels_train, labels_test = train_test_split(\n",
    "    points, point_labels, test_size=0.20, random_state=1)"
   ]
  },
  {
   "cell_type": "markdown",
   "metadata": {},
   "source": [
    "Now we can train the classifier on the training set."
   ]
  },
  {
   "cell_type": "code",
   "execution_count": 28,
   "metadata": {},
   "outputs": [
    {
     "data": {
      "text/plain": [
       "KNeighborsClassifier(algorithm='auto', leaf_size=30, metric='minkowski',\n",
       "           metric_params=None, n_jobs=None, n_neighbors=5, p=2,\n",
       "           weights='uniform')"
      ]
     },
     "execution_count": 28,
     "metadata": {},
     "output_type": "execute_result"
    }
   ],
   "source": [
    "# Create a nearest neighbors object\n",
    "k = 5\n",
    "knn = KNeighborsClassifier(n_neighbors=k)\n",
    "\n",
    "# train the classifier using the labeled points\n",
    "knn.fit(points_train, labels_train)"
   ]
  },
  {
   "cell_type": "markdown",
   "metadata": {},
   "source": [
    "#### 4. Calculate accuracy on test set"
   ]
  },
  {
   "cell_type": "markdown",
   "metadata": {},
   "source": [
    "Let's predict the labels for the test set points using the trained classifier and compare the predicted labels to the actual labels. Refer to the [accuracy_score documentation](http://scikit-learn.org/stable/modules/generated/sklearn.metrics.accuracy_score.html) to learn which arguments should be passed to 'accuracy_score()'"
   ]
  },
  {
   "cell_type": "code",
   "execution_count": 30,
   "metadata": {},
   "outputs": [
    {
     "name": "stdout",
     "output_type": "stream",
     "text": [
      "[1 0 0 1 0 1 0 0 0 0 0 0 0 1 1 0 0 0 1 0 1 1 0 0]\n",
      "[1 0 0 1 0 1 0 0 0 0 0 0 0 1 1 0 0 0 1 0 1 1 0 0]\n",
      "1.0\n"
     ]
    }
   ],
   "source": [
    "# predict the value of the test set points. \n",
    "labels_predictions = knn.predict(points_test)\n",
    "\n",
    "# calculate the accuracy\n",
    "# labels_test are the labels (correct answers)\n",
    "# labels_predictions are our predictions\n",
    "accuracy = accuracy_score(labels_test,  labels_predictions)\n",
    "\n",
    "# print the predictions and the accuracy\n",
    "print(labels_predictions)\n",
    "print(labels_test)\n",
    "print(accuracy)"
   ]
  },
  {
   "cell_type": "markdown",
   "metadata": {},
   "source": [
    "## Discussion Questions\n",
    "\n",
    "#### 1. Why is this attack a privacy risk? \n",
    "\n",
    "#### 2. How could we (IoT device programmers, network operators, etc.) protect people from this attack?"
   ]
  },
  {
   "cell_type": "markdown",
   "metadata": {},
   "source": [
    "## Additional Exercises"
   ]
  },
  {
   "cell_type": "markdown",
   "metadata": {},
   "source": [
    "#### 1. Adjust parameters to improve accuracy.\n",
    "\n",
    "Now that we have a baseline accuracy, we can tweak the data preprocessing and classifier parameters to improve the accuracy. Look back through the code we've run so far. Which values have we set arbitrarily that could affect the results? Try changing these parameters and re-running the code to see how the classification accuracy is affected. Remember to re-run all of the cells below each change (or just restart the kernel and re-run all cells).  "
   ]
  },
  {
   "cell_type": "markdown",
   "metadata": {},
   "source": [
    "#### 2. Run on your data from last week\n",
    "\n",
    "Modify the notes you took about the activities you performed with your devices last week to match the format in  'example_pcaps/google_home_labels.txt'. Then try re-running the code above with your pcap file and labels file. You will likely need to change some of the parameters to optimize the results. How well does the k-NN algorithm do with your data? If the accuracy is worse than with the example data, think about why this might be the case. "
   ]
  },
  {
   "cell_type": "markdown",
   "metadata": {},
   "source": [
    "#### 3. Replace the KNearestClassifier above with a DecisionTreeClassifier _(advanced)_\n",
    "\n",
    "You discussed decision trees in lecture today. How well does a decision tree perform on this task compared to K-NN? Replace the nearest neighbors classifier in the code above with a decision tree classifier and compare accuracies. In order to do this, you'll need to reference the DecisionTreeClassifier documentation at [http://scikit-learn.org/stable/modules/generated/sklearn.tree.DecisionTreeClassifier.html](http://scikit-learn.org/stable/modules/generated/sklearn.tree.DecisionTreeClassifier.html)"
   ]
  }
 ],
 "metadata": {
  "kernelspec": {
   "display_name": "Python 3",
   "language": "python",
   "name": "python3"
  },
  "language_info": {
   "codemirror_mode": {
    "name": "ipython",
    "version": 3
   },
   "file_extension": ".py",
   "mimetype": "text/x-python",
   "name": "python",
   "nbconvert_exporter": "python",
   "pygments_lexer": "ipython3",
   "version": "3.7.1"
  }
 },
 "nbformat": 4,
 "nbformat_minor": 2
}
